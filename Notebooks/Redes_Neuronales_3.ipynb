{
 "cells": [
  {
   "cell_type": "markdown",
   "metadata": {},
   "source": [
    "# Introducción a Keras y TensorFlow\n",
    "\n",
    "TensorFlow (TF) es una plataforma basada en Python, gratuita y de código abierto, desarrollada principalmente por Google. Similar a NumPy, el propósito principal de TensorFlow es permitir al usuario manipular expresiones matemáticas en tensores numéricos.\n",
    "\n",
    "Keras es una API (Application Programming Interface) para Python, construida sobre TensorFlow, que provee una manera conveniente para definir y entrenar cualquier tipo de modelo de DL. \n",
    "\n",
    "## Tensores constantes y variables\n",
    "\n",
    "Para hacer algo en TF, necesitamos algunos tensores. Los tensores deben crearse con algún valor inicial. Por ejemplo, podríamos crear tensores que sólo contengan unos o ceros, o tensores que tengan valores de alguna distribución aleatoria."
   ]
  },
  {
   "cell_type": "code",
   "execution_count": 15,
   "metadata": {},
   "outputs": [
    {
     "name": "stdout",
     "output_type": "stream",
     "text": [
      "tf.Tensor(\n",
      "[[1.]\n",
      " [1.]], shape=(2, 1), dtype=float32)\n"
     ]
    }
   ],
   "source": [
    "import tensorflow as tf\n",
    "import numpy as np\n",
    "\n",
    "a = tf.ones(shape = (2,1))  # Equivalente a np.ones(shape=(2,1))\n",
    "\n",
    "print(a)"
   ]
  },
  {
   "cell_type": "code",
   "execution_count": 2,
   "metadata": {},
   "outputs": [
    {
     "name": "stdout",
     "output_type": "stream",
     "text": [
      "tf.Tensor(\n",
      "[[0. 0. 0.]\n",
      " [0. 0. 0.]\n",
      " [0. 0. 0.]], shape=(3, 3), dtype=float32)\n"
     ]
    }
   ],
   "source": [
    "b = tf.zeros(shape = (3,3)) # Equivalente a np.zeros(shape=(2,1))\n",
    "\n",
    "print(b)"
   ]
  },
  {
   "cell_type": "code",
   "execution_count": 3,
   "metadata": {},
   "outputs": [
    {
     "name": "stdout",
     "output_type": "stream",
     "text": [
      "tf.Tensor(\n",
      "[[ 0.66024625]\n",
      " [ 0.13119078]\n",
      " [-1.3691951 ]], shape=(3, 1), dtype=float32)\n"
     ]
    }
   ],
   "source": [
    "# Creamos un tensor con valores aleatorios a partir de una distribución\n",
    "# normal con media = 0 y desviación estándar = 1\n",
    "\n",
    "c = tf.random.normal(shape = (3,1), mean = 0.0, stddev = 1.0)\n",
    "\n",
    "print(c)"
   ]
  },
  {
   "cell_type": "code",
   "execution_count": 4,
   "metadata": {},
   "outputs": [
    {
     "name": "stdout",
     "output_type": "stream",
     "text": [
      "tf.Tensor(\n",
      "[[0.2655337]\n",
      " [0.5469104]\n",
      " [0.6311189]], shape=(3, 1), dtype=float32)\n"
     ]
    }
   ],
   "source": [
    "d = tf.random.uniform(shape = (3,1), minval = 0., maxval = 1.)\n",
    "\n",
    "print(d)"
   ]
  },
  {
   "cell_type": "markdown",
   "metadata": {},
   "source": [
    "Para entrenar un modelo, necesitamos actualizar su estado, que es un conjunto de tensores. Como los tensores no son asignables, tenemos que utilizar *variables* con la clase `tf.Variable`, que nos permite modificar el estado en TF. \n",
    "\n",
    "Para crear una variable, necesitamos dar un valor inicial, como un tensor aleatorio."
   ]
  },
  {
   "cell_type": "code",
   "execution_count": 5,
   "metadata": {},
   "outputs": [
    {
     "name": "stdout",
     "output_type": "stream",
     "text": [
      "<tf.Variable 'Variable:0' shape=(3, 1) dtype=float32, numpy=\n",
      "array([[ 0.18516354],\n",
      "       [-2.2039483 ],\n",
      "       [ 0.51739603]], dtype=float32)>\n"
     ]
    }
   ],
   "source": [
    "v = tf.Variable(initial_value = tf.random.normal(shape = (3,1)))\n",
    "\n",
    "print(v)"
   ]
  },
  {
   "cell_type": "markdown",
   "metadata": {},
   "source": [
    "El estado de la variable se puede modificar a través del método `assign`, como sigue:"
   ]
  },
  {
   "cell_type": "code",
   "execution_count": 6,
   "metadata": {},
   "outputs": [
    {
     "data": {
      "text/plain": [
       "<tf.Variable 'UnreadVariable' shape=(3, 1) dtype=float32, numpy=\n",
       "array([[1.],\n",
       "       [1.],\n",
       "       [1.]], dtype=float32)>"
      ]
     },
     "execution_count": 6,
     "metadata": {},
     "output_type": "execute_result"
    }
   ],
   "source": [
    "v.assign(tf.ones((3,1)))"
   ]
  },
  {
   "cell_type": "markdown",
   "metadata": {},
   "source": [
    "También funciona para un subconjunto de entradas."
   ]
  },
  {
   "cell_type": "code",
   "execution_count": 7,
   "metadata": {},
   "outputs": [
    {
     "data": {
      "text/plain": [
       "<tf.Variable 'UnreadVariable' shape=(3, 1) dtype=float32, numpy=\n",
       "array([[3.],\n",
       "       [1.],\n",
       "       [1.]], dtype=float32)>"
      ]
     },
     "execution_count": 7,
     "metadata": {},
     "output_type": "execute_result"
    }
   ],
   "source": [
    "v[0,0].assign(3.)"
   ]
  },
  {
   "cell_type": "markdown",
   "metadata": {},
   "source": [
    "### Operaciones tensoriales\n",
    "\n",
    "TF ofrece un conjunto de operaciones tensoriales para expresar fórmulas matemáticas. Por ejemplo, si queremos obtener el cuadrado de las entradas de un tensor, usamos"
   ]
  },
  {
   "cell_type": "code",
   "execution_count": 8,
   "metadata": {},
   "outputs": [
    {
     "name": "stdout",
     "output_type": "stream",
     "text": [
      "tf.Tensor(\n",
      "[[0.2655337]\n",
      " [0.5469104]\n",
      " [0.6311189]], shape=(3, 1), dtype=float32)\n"
     ]
    }
   ],
   "source": [
    "print(d)"
   ]
  },
  {
   "cell_type": "code",
   "execution_count": 9,
   "metadata": {},
   "outputs": [
    {
     "data": {
      "text/plain": [
       "<tf.Tensor: shape=(3, 1), dtype=float32, numpy=\n",
       "array([[0.07050814],\n",
       "       [0.29911098],\n",
       "       [0.39831105]], dtype=float32)>"
      ]
     },
     "execution_count": 9,
     "metadata": {},
     "output_type": "execute_result"
    }
   ],
   "source": [
    "d_sq = tf.square(d)\n",
    "\n",
    "d_sq"
   ]
  },
  {
   "cell_type": "markdown",
   "metadata": {},
   "source": [
    "Para sacar la raíz cuadrada"
   ]
  },
  {
   "cell_type": "code",
   "execution_count": 10,
   "metadata": {},
   "outputs": [
    {
     "data": {
      "text/plain": [
       "<tf.Tensor: shape=(3, 1), dtype=float32, numpy=\n",
       "array([[0.5152996],\n",
       "       [0.7395339],\n",
       "       [0.7944299]], dtype=float32)>"
      ]
     },
     "execution_count": 10,
     "metadata": {},
     "output_type": "execute_result"
    }
   ],
   "source": [
    "d_sqrt = tf.sqrt(d)\n",
    "\n",
    "d_sqrt"
   ]
  },
  {
   "cell_type": "markdown",
   "metadata": {},
   "source": [
    "Sumamos dos tensores, entrada a entrada"
   ]
  },
  {
   "cell_type": "code",
   "execution_count": 11,
   "metadata": {},
   "outputs": [
    {
     "data": {
      "text/plain": [
       "<tf.Tensor: shape=(3, 1), dtype=float32, numpy=\n",
       "array([[ 0.92577994],\n",
       "       [ 0.6781012 ],\n",
       "       [-0.7380762 ]], dtype=float32)>"
      ]
     },
     "execution_count": 11,
     "metadata": {},
     "output_type": "execute_result"
    }
   ],
   "source": [
    "suma = c + d\n",
    "\n",
    "suma"
   ]
  },
  {
   "cell_type": "markdown",
   "metadata": {},
   "source": [
    "### Gradient Tape\n",
    "\n",
    "`GradientTape` es una API que nos permite utilizar las capacidades de diferenciación automática de TF. Es un esquema de Python que va a \"registrar\" las operaciones tensoriales que corran dentro de él, en forma de un grafo computacional (a veces llamado *tape*). Ese grafo puede usarse para recuperar el gradiente de cualquier salida con respecto a cualquier variable o conjunto de variables (las instancias de la clase `tf.Variable`). \n",
    "\n",
    "Una `tf.Variable` es un tipo específico de tensor que debe mantener un estado mutable, por ejemplo, los pesos de una red neuronal siempre son instancias del tipo `tf.Variable`."
   ]
  },
  {
   "cell_type": "code",
   "execution_count": 12,
   "metadata": {},
   "outputs": [
    {
     "name": "stdout",
     "output_type": "stream",
     "text": [
      "tf.Tensor(2.0, shape=(), dtype=float32)\n"
     ]
    }
   ],
   "source": [
    "x = tf.Variable(0.) # Variable escalar con valor inicial de 0\n",
    "\n",
    "with tf.GradientTape() as tape: # Iniciamos el esquema de GradientTape\n",
    "    y = 2 * x + 3               # Dentro del esquema, aplicamos operaciones tensoriales a la variable\n",
    "\n",
    "dy_dx = tape.gradient(y, x) # Utilizamos la tape para recuperar el gradiente de la salida y respecto a x\n",
    "\n",
    "print(dy_dx)"
   ]
  },
  {
   "cell_type": "markdown",
   "metadata": {},
   "source": [
    "Veamos otro ejemplo, ahora con un tensor un poco más complejo."
   ]
  },
  {
   "cell_type": "code",
   "execution_count": 13,
   "metadata": {},
   "outputs": [
    {
     "data": {
      "text/plain": [
       "<tf.Tensor: shape=(2, 2), dtype=float32, numpy=\n",
       "array([[2., 2.],\n",
       "       [2., 2.]], dtype=float32)>"
      ]
     },
     "execution_count": 13,
     "metadata": {},
     "output_type": "execute_result"
    }
   ],
   "source": [
    "x = tf.Variable(tf.random.uniform((2,2))) # Variable de forma (2,2) con valores iniciales todos ceros\n",
    "\n",
    "with tf.GradientTape() as tape:\n",
    "    y = 2 * x + 3\n",
    "\n",
    "grad_of_y_wrt_x = tape.gradient(y, x)\n",
    "\n",
    "grad_of_y_wrt_x\n",
    "\n"
   ]
  },
  {
   "cell_type": "markdown",
   "metadata": {},
   "source": [
    "## Ejemplo: Clasificador lineal en TensorFlow\n",
    "\n",
    "Ya vimos tensores, variables y operaciones tensoriales, y ya sabemos cómo calcular gradientes. Podemos construir cualquier modelo de ML que se base en el método del gradiente descendente. Veamos.\n",
    "\n",
    "Supongamos que nos piden implementar un clasificador lineal usando TF. Vamos a ir paso a paso, así que vamos a generar datos sintéticos bonitos y separables para trabajar: dos clases de puntos en un plano.\n",
    "\n",
    "Generaremos cada clase de puntos dibujando sus coordenadas a partir de una distribución aleatoria con matriz de covarianza y media específicas. Recordemos que, de forma intuitiva, la matriz de covarianza describe la forma de la nube de puntos, y que la media describe su posición en el plano. \n",
    "\n",
    "Para este ejemplo vamos a utilizar la misma matriz de covarianza para cada una de las nubes de puntos, pero utilizaremos dos medias distintas, por lo que las nubes van a tener la misma forma, pero posiciones distintas.\n",
    "\n",
    "Primero definiremos el número de puntos por clase que queremos, que van a ser, 1000 en cada nube.\n",
    "\n",
    "Después, generamos las muestras \"negativas\" de 1000 puntos aleatorios. La matriz de covarianza coresponde a una nubecita en forma de óvalo orientada desde abajo a la izquierda hacia arriba y a la derecha.\n",
    "\n",
    "El otro conjunto de datos es lo mismo, pero con media distinta."
   ]
  },
  {
   "cell_type": "code",
   "execution_count": 16,
   "metadata": {},
   "outputs": [],
   "source": [
    "num_samples_per_class = 1000\n",
    "\n",
    "\n",
    "negative_samples = np.random.multivariate_normal(\n",
    "                                                mean = [0, 3],\n",
    "                                                cov = [[1, 0.5], [0.5, 1]],\n",
    "                                                size = num_samples_per_class)\n",
    "\n",
    "positive_samples = np.random.multivariate_normal(\n",
    "                                                mean = [3, 0],\n",
    "                                                cov = [[1, 0.5], [0.5,1]],\n",
    "                                                size = num_samples_per_class)"
   ]
  },
  {
   "cell_type": "markdown",
   "metadata": {},
   "source": [
    "En la celda anterior, las variables `negative_samples` y `positive_samples` son arrays de forma (1000,2). Pongamos uno sobre otro para formar un sólo array de (2000,2)."
   ]
  },
  {
   "cell_type": "code",
   "execution_count": 17,
   "metadata": {},
   "outputs": [],
   "source": [
    "inputs = np.vstack((negative_samples, positive_samples)).astype(np.float32)"
   ]
  },
  {
   "cell_type": "markdown",
   "metadata": {},
   "source": [
    "Ahora, tenemos que generar también las correspondientes etiquetas objetivo, que en este caso serán un array de ceros y unos de forma (2000,1), donde `targets[i,0]` va a ser 0 si `inputs[i]` pertenece a la clase 0 (y visceversa)."
   ]
  },
  {
   "cell_type": "code",
   "execution_count": 18,
   "metadata": {},
   "outputs": [],
   "source": [
    "targets = np.vstack((np.zeros((num_samples_per_class, 1), dtype = 'float32'),\n",
    "                    np.ones((num_samples_per_class, 1), dtype = 'float32')))"
   ]
  },
  {
   "cell_type": "markdown",
   "metadata": {},
   "source": [
    "Grafiquemos los datos con Matplotlib."
   ]
  },
  {
   "cell_type": "code",
   "execution_count": 19,
   "metadata": {},
   "outputs": [
    {
     "data": {
      "image/png": "[encoded data removed]",
      "text/plain": [
       "<Figure size 640x480 with 1 Axes>"
      ]
     },
     "metadata": {},
     "output_type": "display_data"
    }
   ],
   "source": [
    "import matplotlib.pyplot as plt\n",
    "\n",
    "plt.scatter(inputs[:,0], inputs[:,1], c = targets[:,0])\n",
    "\n",
    "plt.show()"
   ]
  },
  {
   "cell_type": "markdown",
   "metadata": {},
   "source": [
    "Bien, tenemos los datos de entrada listos. Ahora crearemos un clasificador lineal que aprenda a separar estos dos aglomerados. Un clasificador lineal es una transformación afín (`predicción = W • entrada + b`) entrenado para minimizar el cuadrado de la diferencia entre las predicciones y los objetivos.\n",
    "\n",
    "Creamos entonces nuestras variables `w` y `b`, inicializando con valores aleatorios y con ceros, respectivamente."
   ]
  },
  {
   "cell_type": "code",
   "execution_count": 20,
   "metadata": {},
   "outputs": [],
   "source": [
    "input_dim = 2 # Las entradas son puntos en 2 dimensiones\n",
    "\n",
    "output_dim = 1 # Mientras que la salida será 0 o 1\n",
    "\n",
    "w = tf.Variable(initial_value = tf.random.uniform(shape = (input_dim, output_dim)))\n",
    "\n",
    "b = tf.Variable(initial_value = tf.zeros(shape = (output_dim)))\n"
   ]
  },
  {
   "cell_type": "markdown",
   "metadata": {},
   "source": [
    "Definimos la función de paso:"
   ]
  },
  {
   "cell_type": "code",
   "execution_count": 21,
   "metadata": {},
   "outputs": [],
   "source": [
    "def model(inputs):\n",
    "    return tf.matmul(inputs, w) + b"
   ]
  },
  {
   "cell_type": "markdown",
   "metadata": {},
   "source": [
    "Como nuestro clasificador lineal opera en entradas de 2 dimensiones, `w` en realidad está formado por dos coeficientes escalares, `w1` y `w2`: `w = [[w1], [w2]]`.\n",
    "\n",
    "Mientras que `b` es un solo coeficiente escalar. Por lo que, para cada dato de entrada `[x,y]`, su predicción será: `prediction = [[w1]. [w2]] • [x,y] + b = w1 * x + w2 * y + b`.\n",
    "\n",
    "Ahora, definimos la función de costo, que en este caso corresponde al error cuadrático medio."
   ]
  },
  {
   "cell_type": "code",
   "execution_count": 22,
   "metadata": {},
   "outputs": [],
   "source": [
    "def square_loss(targets, predictions):\n",
    "    per_sample_losses = tf.square(targets - predictions)\n",
    "    return tf.reduce_mean(per_sample_losses)"
   ]
  },
  {
   "cell_type": "markdown",
   "metadata": {},
   "source": [
    "`per_sample_losses` será un tensor con la misma forma que los objetivos y las predicciones y que va a contener los scores de la función de costo.\n",
    "\n",
    "El método `tf.reduce_mean()` promedia todos los valores de la función de costo y nos da un sólo número.\n",
    "\n",
    "Ahora sigue el paso de entrenamiento, donde se va a recibir un poco de datos de entrenamiento y se van a actualizar los pesos `w` y el valor `b` para reducir el costo sobre los datos."
   ]
  },
  {
   "cell_type": "code",
   "execution_count": 23,
   "metadata": {},
   "outputs": [],
   "source": [
    "learning_rate = 0.1\n",
    "\n",
    "def training_step(inputs, targets):\n",
    "    with tf.GradientTape() as tape:\n",
    "        predictions = model(inputs)\n",
    "        loss = square_loss(predictions, targets)\n",
    "    grad_loss_wrt_w, grad_loss_wrt_b = tape.gradient(loss, [w,b])\n",
    "    w.assign_sub(grad_loss_wrt_w * learning_rate)\n",
    "    b.assign_sub(grad_loss_wrt_b * learning_rate)\n",
    "    return loss"
   ]
  },
  {
   "cell_type": "markdown",
   "metadata": {},
   "source": [
    "Por simplicidad, se hará *batch training* en vez de *mini-batch training*: vamos a correr cada paso de entrenamiento (calcular el gradiente y actualizar los pesos) para todos los datos, en vez de iterar en pequeños conjuntos del conjunto completo. "
   ]
  },
  {
   "cell_type": "code",
   "execution_count": 24,
   "metadata": {},
   "outputs": [
    {
     "name": "stdout",
     "output_type": "stream",
     "text": [
      "Loss at step 0: 0.9926\n",
      "Loss at step 1: 0.1791\n",
      "Loss at step 2: 0.1137\n",
      "Loss at step 3: 0.1013\n",
      "Loss at step 4: 0.0940\n",
      "Loss at step 5: 0.0878\n",
      "Loss at step 6: 0.0821\n",
      "Loss at step 7: 0.0770\n",
      "Loss at step 8: 0.0723\n",
      "Loss at step 9: 0.0681\n",
      "Loss at step 10: 0.0642\n",
      "Loss at step 11: 0.0607\n",
      "Loss at step 12: 0.0575\n",
      "Loss at step 13: 0.0546\n",
      "Loss at step 14: 0.0519\n",
      "Loss at step 15: 0.0495\n",
      "Loss at step 16: 0.0474\n",
      "Loss at step 17: 0.0454\n",
      "Loss at step 18: 0.0435\n",
      "Loss at step 19: 0.0419\n",
      "Loss at step 20: 0.0404\n",
      "Loss at step 21: 0.0390\n",
      "Loss at step 22: 0.0378\n",
      "Loss at step 23: 0.0367\n",
      "Loss at step 24: 0.0356\n",
      "Loss at step 25: 0.0347\n",
      "Loss at step 26: 0.0338\n",
      "Loss at step 27: 0.0331\n",
      "Loss at step 28: 0.0324\n",
      "Loss at step 29: 0.0317\n",
      "Loss at step 30: 0.0311\n",
      "Loss at step 31: 0.0306\n",
      "Loss at step 32: 0.0301\n",
      "Loss at step 33: 0.0297\n",
      "Loss at step 34: 0.0293\n",
      "Loss at step 35: 0.0289\n",
      "Loss at step 36: 0.0286\n",
      "Loss at step 37: 0.0283\n",
      "Loss at step 38: 0.0280\n",
      "Loss at step 39: 0.0278\n"
     ]
    }
   ],
   "source": [
    "for step in range(40):\n",
    "    loss = training_step(inputs, targets)\n",
    "    print(f'Loss at step {step}: {loss:.4f}')"
   ]
  },
  {
   "cell_type": "markdown",
   "metadata": {},
   "source": [
    "Después de 40 iteraciones, el costo del entrenamiento parece estabilizarse alrededor de 0.0255. Grafiquemos cómo nuestro modelo lineal clasifica los datos de entrenamiento.\n",
    "\n",
    "Como nuestros objetivos son ceros y unos, una entrada dada puede ser clasificada como \"0\", si su valor de predicción es menor a 0.5, y como \"1\" si está por arriba de 0.5\n"
   ]
  },
  {
   "cell_type": "code",
   "execution_count": 25,
   "metadata": {},
   "outputs": [
    {
     "data": {
      "image/png": "[encoded data removed]",
      "text/plain": [
       "<Figure size 640x480 with 1 Axes>"
      ]
     },
     "metadata": {},
     "output_type": "display_data"
    }
   ],
   "source": [
    "predictions = model(inputs)\n",
    "\n",
    "plt.scatter(inputs[:,0], inputs[:,1], c = predictions[:,0] > 0.5)\n",
    "plt.show()"
   ]
  },
  {
   "cell_type": "markdown",
   "metadata": {},
   "source": [
    "Casi no se nota la diferencia entre las predicciones del modelo (gráfica de arriba) y los datos de entrada. \n",
    "\n",
    "Recordemos que el valor de la predicción para cualquier punto $(x,y)$ es simplemente:\n",
    "\n",
    "$$ \\hat{y} = w_1 x + w_2 y + b  $$\n",
    "\n",
    "Y las clases a las que se clasifica la predicción son tales que:\n",
    "\n",
    "$$ \\hat{y} = \\begin{cases}\n",
    "            0 & \\text{si} & w_1 x + w_2 y + b < 0.5 \\\\\n",
    "            1 & \\text{si} & w_1 x + w_2 y + b > 0.5 \\\\\n",
    "\n",
    "\\end{cases} $$\n",
    "\n",
    "Pero pues esto equivale a la ecuación de una recta:\n",
    "\n",
    "$$  w_1 x + w_2 y + b = 0.5 \\quad \\to \\quad y = - \\frac{w_1}{w_2} x + \\frac{0.5 - b}{w_2}$$\n",
    "\n",
    "Arriba de la línea está la clase 1 y por debajo la clase 0. \n",
    "\n",
    "Grafiquemos."
   ]
  },
  {
   "cell_type": "code",
   "execution_count": null,
   "metadata": {},
   "outputs": [],
   "source": [
    "x = np.linspace(-1, 4, 100)\n",
    "\n",
    "y = -w[0] / w[1] * x + (0.5 - b) / w[1]\n",
    "\n",
    "plt.plot(x,y, \"-r\")\n",
    "plt.scatter(inputs[:,0], inputs[:,1], c = predictions[:,0] > 0.5)\n",
    "plt.show()\n"
   ]
  },
  {
   "cell_type": "markdown",
   "metadata": {},
   "source": [
    "De esto se trata la tarea de un clasificador. Encuentra los parámetros de una línea (o, en muchas dimensiones, un hiperplano) que logre separar adecuadamente dos tipos de datos.\n",
    "\n",
    "## APIs de Keras fundamentales\n",
    "\n",
    "### Layers: los bloques de construcción del deep learning\n",
    "\n",
    "La estructura fundamental de datos en las redes neuronales son las *capas* (*layers*). Una capa es un módulo de procesamiento de datos que toma como entrada uno o más tensores y que produce scomo salida uno o más tensores. Algunas capas no tienen estado, pero la mayor parte del tiempo tienen un estado: los *pesos* de las capas, que son uno o varios tensores aprendidos a través del gradiente estocástico descendiente, que en conjunto contienen el *aprendizaje* de la red.\n",
    "\n"
   ]
  },
  {
   "cell_type": "code",
   "execution_count": 31,
   "metadata": {},
   "outputs": [],
   "source": [
    "from tensorflow import keras\n",
    "\n",
    "class SimpleDense(keras.layers.Layer):\n",
    "\n",
    "    def __init__(self, units, activation = None):\n",
    "\n",
    "        super().__init__()\n",
    "\n",
    "        self.units = units\n",
    "\n",
    "        self.activation = activation \n",
    "\n",
    "    def build(self, input_shape):\n",
    "\n",
    "        input_dim = input_shape[-1]\n",
    "\n",
    "        self.W = self.add_weight(shape = (input_dim, self.units),\n",
    "                                 initializer = \"random_normal\")\n",
    "        \n",
    "        self.b = self.add_weight(shape = (self.units,),\n",
    "                                 initializer = \"zeros\")\n",
    "        \n",
    "    def call(self, inputs):\n",
    "\n",
    "        y = tf.matmul(inputs, self.W) + self.b\n",
    "\n",
    "        if self.activation is not None:\n",
    "\n",
    "            y = self.activation(y)\n",
    "\n",
    "        return y\n",
    "\n"
   ]
  },
  {
   "cell_type": "code",
   "execution_count": 32,
   "metadata": {},
   "outputs": [],
   "source": [
    "my_dense = SimpleDense(units = 32, activation = tf.nn.relu)"
   ]
  },
  {
   "cell_type": "code",
   "execution_count": 33,
   "metadata": {},
   "outputs": [],
   "source": [
    "input_tensor = tf.ones(shape = (2, 784))"
   ]
  },
  {
   "cell_type": "code",
   "execution_count": 34,
   "metadata": {},
   "outputs": [
    {
     "name": "stdout",
     "output_type": "stream",
     "text": [
      "(2, 32)\n"
     ]
    }
   ],
   "source": [
    "output_tensor = my_dense(input_tensor)\n",
    "\n",
    "print(output_tensor.shape)"
   ]
  },
  {
   "cell_type": "code",
   "execution_count": null,
   "metadata": {},
   "outputs": [],
   "source": []
  }
 ],
 "metadata": {
  "kernelspec": {
   "display_name": "Python 3",
   "language": "python",
   "name": "python3"
  },
  "language_info": {
   "codemirror_mode": {
    "name": "ipython",
    "version": 3
   },
   "file_extension": ".py",
   "mimetype": "text/x-python",
   "name": "python",
   "nbconvert_exporter": "python",
   "pygments_lexer": "ipython3",
   "version": "3.12.1"
  },
  "orig_nbformat": 4
 },
 "nbformat": 4,
 "nbformat_minor": 2
}
