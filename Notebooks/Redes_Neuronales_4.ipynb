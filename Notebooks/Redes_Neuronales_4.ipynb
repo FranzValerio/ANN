{
 "cells": [
  {
   "attachments": {},
   "cell_type": "markdown",
   "metadata": {},
   "source": [
    "# Redes Neuronales\n",
    "\n",
    "## Clasificación y Regresión\n",
    "\n",
    "En esta ocasión vamos a aprender a utilizar las redes neuronales artificiales para hacer tres nuevas tareas: clasificación binaria, clasificación multi-clase, y regresión escalar.\n",
    "\n",
    "- Clasificar reseñas de películas como positivas o negativas (binaria)\n",
    "- Clasificar noticias por tema (multiclase)\n",
    "- Estimar el precio de una casa, dado datos reales del mercado inmobiliario (regresión escalar)\n",
    "\n",
    "Antes de proceder a los ejemplos, definamos algunos términos utilizados en el área. Estos términos tienen una definición precisa y específica en el entorno del machine learning, por lo que debemos familiarizarnos con ellos:\n",
    "\n",
    "- **Sample** o **Input** (*Muestra* o *Entrada*) --> Dato puntual que va en el modelo.\n",
    "- **Prediction** o **Output** (*Predicción* o *Salida*) --> Lo que sale del modelo.\n",
    "- **Target** --> Valor real, lo que el modelo debería predecir, idealmente, de acuerdo a una fuente externa de datos.\n",
    "- **Prediction error** o **Loss value** --> Una medida de la distancia entre la predicción del modelo y el target.\n",
    "- **Classes** --> Un conjunto de posibles etiquetas a elegir en un problema de clasificación. Por ejemplo, cuando se clasifican imágenes de perros y gatos, \"perro\" y \"gato\" son las dos clases.\n",
    "- **Label** --> Una instancia específica de una "
   ]
  },
  {
   "cell_type": "code",
   "execution_count": null,
   "metadata": {},
   "outputs": [],
   "source": []
  },
  {
   "cell_type": "code",
   "execution_count": null,
   "metadata": {},
   "outputs": [],
   "source": []
  },
  {
   "cell_type": "markdown",
   "metadata": {},
   "source": []
  }
 ],
 "metadata": {
  "kernelspec": {
   "display_name": "Python 3",
   "language": "python",
   "name": "python3"
  },
  "language_info": {
   "name": "python",
   "version": "3.10.9 (tags/v3.10.9:1dd9be6, Dec  6 2022, 20:01:21) [MSC v.1934 64 bit (AMD64)]"
  },
  "orig_nbformat": 4,
  "vscode": {
   "interpreter": {
    "hash": "015228567aad51ec78ea438af017505189109c183cee0d015d00b888b8f36de5"
   }
  }
 },
 "nbformat": 4,
 "nbformat_minor": 2
}
