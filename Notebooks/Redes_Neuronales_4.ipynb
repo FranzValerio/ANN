{
 "cells": [
  {
   "attachments": {},
   "cell_type": "markdown",
   "metadata": {},
   "source": [
    "# Redes Neuronales\n",
    "\n",
    "## Anatomía de una red neuronal: Keras APIs\n",
    "\n",
    "Es hora de pasar a un camino más robusto y productivo para el deep learning: la API de Keras.\n",
    "\n",
    "### Capas: Los bloques de construcción del deep learning\n",
    "\n",
    "La estructura de datos fundamental en las redes neuronales es la *capa*. Una capa es un módulo de procesamiento de datos que toma como entrada uno o más tensores y que da como salida uno o más tensores. Algunas capas no tienen estado, pero las capas más frecuentes sí: los *pesos* de las capas, uno o varios tensores aprendidos con gradiente descendente estocástico, los cuales en conjunto contienen el *conocimiento* de la red.\n",
    "\n",
    "Distintos tipos de capas son apropiadas para distintos formatos de tensores y distintos tipos de procesamiento de datos. Por ejemplo, datos vectoriales sencillos, almacenados en un tensor de rango 2 de forma `(samples, features)`, son procesados comúnmente por *capas densamente conectadas*, también conocidas como *capas completamente conectadas*, o *capas densas* (en Keras corresponde a la clase `Dense`). \n",
    "\n",
    "Datos secuenciales, almacenados en tensores de rango 3 de forma `(samples, timesteps, features)`, son procesados típicamente por *capas recurrentes*, como una capa `LSTM`, o capas *convolucionales* de 1 dimensión (`CONV1D`). \n",
    "\n",
    "Los datos de imágenes, almacenados en tensores de rango 4, generalmente son procesados por capas convolucionales de 2 dimensiones. (`CONV2D`).\n",
    "\n",
    "Podemos pensar entonces en las capas como los bloques de LEGO del deep learning. En Keras, construir modelos de deep learning se logra al apilar capas compatibles para formar pipelines de transformación de datos útiles. \n",
    "\n",
    "#### La clase básica `Layer` en Keras\n",
    "\n",
    "Todo en Keras es o una capa `Layer` o bien algo que interactúa con una `Layer`. Una `Layer` es un objeto que encapsula algun estado (pesos) y una operación (un paso hacia adelante). Los pesos generalmente se definen en un `build()` (aunque también podrían definirse en el constructor `__init__()`) y la operación se define en el método `call()`.  \n",
    "\n",
    "##### Ejemplo"
   ]
  },
  {
   "cell_type": "code",
   "execution_count": 1,
   "metadata": {},
   "outputs": [],
   "source": [
    "from tensorflow import keras\n",
    "\n",
    "class SimpleDense(keras.layers.Layer):\n",
    "\n",
    "    '''Todas las capas en Keras heredan las propiedades de la clase base Layer'''\n",
    "\n",
    "    def __init__(self, units, activation = None):\n",
    "        super().__init__()\n",
    "        self.units = units\n",
    "        self.activation = activation\n",
    "    \n",
    "    '''La creación de los pesos se hace en el método build()\n",
    "        add_weight() es un método para crear los pesos'''\n",
    "\n",
    "    def build(self, input_shape):\n",
    "        input_dim = input_shape[-1]\n",
    "        self.W = self.add_weight(shape = (input_dim, self.units),\n",
    "                                initializer = 'random_normal')\n",
    "        self.b = self.add_weight(shape = (self.units),\n",
    "                                initializer = 'zeros')\n",
    "    \n",
    "    '''Después, se define el paso hacia adelante, en el método call()'''\n",
    "    \n",
    "    def call(self, inputs):\n",
    "        y = tf.matmul(inputs, self.W) + self.b\n",
    "        if self.activation is not None:\n",
    "            y = self.activation(y)\n",
    "        return y"
   ]
  },
  {
   "attachments": {},
   "cell_type": "markdown",
   "metadata": {},
   "source": [
    "Más adelante veremos en detalle el propósito de los métodos `build()` y `call()`. Por ahora, una vez que se inicializa, una capa como la que definimos arriba puede utilizarse como una función, tomando como entrada un tensor de TensorFlow:"
   ]
  },
  {
   "cell_type": "code",
   "execution_count": 3,
   "metadata": {},
   "outputs": [],
   "source": [
    "import tensorflow as tf \n",
    "\n",
    "my_dense = SimpleDense(units = 32, activation = tf.nn.relu)"
   ]
  },
  {
   "cell_type": "code",
   "execution_count": 4,
   "metadata": {},
   "outputs": [],
   "source": [
    "input_tensor = tf.ones(shape = (2, 784))"
   ]
  },
  {
   "cell_type": "code",
   "execution_count": 5,
   "metadata": {},
   "outputs": [],
   "source": [
    "output_tensor = my_dense(input_tensor)"
   ]
  },
  {
   "cell_type": "code",
   "execution_count": 6,
   "metadata": {},
   "outputs": [
    {
     "name": "stdout",
     "output_type": "stream",
     "text": [
      "(2, 32)\n"
     ]
    }
   ],
   "source": [
    "print(output_tensor.shape)"
   ]
  },
  {
   "cell_type": "code",
   "execution_count": null,
   "metadata": {},
   "outputs": [],
   "source": []
  }
 ],
 "metadata": {
  "kernelspec": {
   "display_name": "Python 3",
   "language": "python",
   "name": "python3"
  },
  "language_info": {
   "codemirror_mode": {
    "name": "ipython",
    "version": 3
   },
   "file_extension": ".py",
   "mimetype": "text/x-python",
   "name": "python",
   "nbconvert_exporter": "python",
   "pygments_lexer": "ipython3",
   "version": "3.10.9 (tags/v3.10.9:1dd9be6, Dec  6 2022, 20:01:21) [MSC v.1934 64 bit (AMD64)]"
  },
  "orig_nbformat": 4,
  "vscode": {
   "interpreter": {
    "hash": "015228567aad51ec78ea438af017505189109c183cee0d015d00b888b8f36de5"
   }
  }
 },
 "nbformat": 4,
 "nbformat_minor": 2
}
