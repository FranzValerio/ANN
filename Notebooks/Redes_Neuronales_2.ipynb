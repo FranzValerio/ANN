{
 "cells": [
  {
   "cell_type": "markdown",
   "metadata": {},
   "source": [
    "# Redes Neuronales\n",
    "\n",
    "## Representaciones de datos para redes neuronales\n",
    "\n",
    "En el último ejemplo, comenzamos trabajando con datos almacenados en arrays multidimensionales de NumPy, también llamados *tensores*. En general, todos los sistemas de ML actuales utilizan tensores como su estructura de datos básica.\n",
    "\n",
    "De forma básica, un tensor es un contenedor de datos, usualmente datos numéricos. Por lo que es un contenedor para números. Ya conocemos las matrices, que son tensores de rango 2: los tensores son generalizaciones de matrices a un número arbitrario de *dimensiones* (en este contexto, una dimensión a menudo se conoce como *eje* (*axis*).\n",
    "\n",
    "### Escalares (Tensores de rango 0)\n",
    "\n",
    "Un tensor que sólo contiene un número se llama *escalar* (*tensor escalar*, *tensor de rango 0*, etc). Usando NumPy, un número del tipo `float32`o `float64` es un tensor escalar. \n",
    "\n",
    "Podemos ver el número de *axis* de un tensor de NumPy usando el atributo `ndim`; un tensor escalar tiene 0 ejes. El número de ejes de un tensor también se conoce como su *rango*. Veamos:"
   ]
  },
  {
   "cell_type": "code",
   "execution_count": 1,
   "metadata": {},
   "outputs": [
    {
     "data": {
      "text/plain": [
       "array(42)"
      ]
     },
     "execution_count": 1,
     "metadata": {},
     "output_type": "execute_result"
    }
   ],
   "source": [
    "import numpy as np\n",
    "\n",
    "x = np.array(42)\n",
    "\n",
    "x"
   ]
  },
  {
   "cell_type": "code",
   "execution_count": 2,
   "metadata": {},
   "outputs": [
    {
     "data": {
      "text/plain": [
       "0"
      ]
     },
     "execution_count": 2,
     "metadata": {},
     "output_type": "execute_result"
    }
   ],
   "source": [
    "x.ndim"
   ]
  },
  {
   "cell_type": "markdown",
   "metadata": {},
   "source": [
    "### Vectores (Tensores de rango 1)\n",
    "\n",
    "Un array de números se conoce como un *vector* o *tensor de rango 1*."
   ]
  },
  {
   "cell_type": "code",
   "execution_count": 3,
   "metadata": {},
   "outputs": [
    {
     "data": {
      "text/plain": [
       "array([42, 15,  6, 14,  7])"
      ]
     },
     "execution_count": 3,
     "metadata": {},
     "output_type": "execute_result"
    }
   ],
   "source": [
    "y = np.array([42, 15, 6, 14, 7])\n",
    "\n",
    "y"
   ]
  },
  {
   "cell_type": "code",
   "execution_count": 4,
   "metadata": {},
   "outputs": [
    {
     "data": {
      "text/plain": [
       "1"
      ]
     },
     "execution_count": 4,
     "metadata": {},
     "output_type": "execute_result"
    }
   ],
   "source": [
    "y.ndim"
   ]
  },
  {
   "cell_type": "markdown",
   "metadata": {},
   "source": [
    "Notemos que el vector tiene 5 entradas, por lo que es un *vector de 5 dimensiones*. Pero ¡no nos confundamos! No es un tensor de rango 5. Este vector sólo tiene un eje y tiene cinco dimensiones sobre ese único eje.\n",
    "\n",
    "### Matrices (Tensores de rango 2)\n",
    "\n",
    "Un array de vectores es una *matriz*, o *tensor de rango 2*. Una matriz tiene dos ejes (filas y columnas). Podemos interpretarlo gráficamente como un arreglo rectangular de números."
   ]
  },
  {
   "cell_type": "code",
   "execution_count": 5,
   "metadata": {},
   "outputs": [
    {
     "data": {
      "text/plain": [
       "array([[  1,   2,   3,   4,   5],\n",
       "       [  1,   4,   9,  16,  25],\n",
       "       [  1,   8,  27,  64, 125]])"
      ]
     },
     "execution_count": 5,
     "metadata": {},
     "output_type": "execute_result"
    }
   ],
   "source": [
    "z = np.array([[1,2,3,4,5],\n",
    "            [1, 4, 9, 16, 25],\n",
    "            [1, 8, 27, 64, 125]])\n",
    "\n",
    "z"
   ]
  },
  {
   "cell_type": "code",
   "execution_count": 6,
   "metadata": {},
   "outputs": [
    {
     "data": {
      "text/plain": [
       "2"
      ]
     },
     "execution_count": 6,
     "metadata": {},
     "output_type": "execute_result"
    }
   ],
   "source": [
    "z.ndim"
   ]
  },
  {
   "cell_type": "markdown",
   "metadata": {},
   "source": [
    "### Tensores de rango 3 y superiores\n",
    "\n",
    "Si juntamos matrices para formar un nuevo array, obtenemos un *tensor de rango 3*, que podemos interpretar visualmente como un cubo de números. "
   ]
  },
  {
   "cell_type": "code",
   "execution_count": 7,
   "metadata": {},
   "outputs": [
    {
     "data": {
      "text/plain": [
       "array([[[ 5, 78,  2, 34,  0],\n",
       "        [ 6, 79,  3, 35,  1],\n",
       "        [ 7, 80,  4, 36,  2]],\n",
       "\n",
       "       [[ 5, 78,  2, 34,  0],\n",
       "        [ 6, 79,  3, 35,  1],\n",
       "        [ 7, 80,  4, 36,  2]],\n",
       "\n",
       "       [[ 5, 78,  2, 34,  0],\n",
       "        [ 6, 79,  3, 35,  1],\n",
       "        [ 7, 80,  4, 36,  2]]])"
      ]
     },
     "execution_count": 7,
     "metadata": {},
     "output_type": "execute_result"
    }
   ],
   "source": [
    "w = np.array([[[5, 78, 2, 34, 0],\n",
    "            [6, 79, 3, 35, 1],\n",
    "            [7, 80, 4, 36, 2]],\n",
    "            [[5, 78, 2, 34, 0],\n",
    "            [6, 79, 3, 35, 1],\n",
    "            [7, 80, 4, 36, 2]],\n",
    "            [[5, 78, 2, 34, 0],\n",
    "            [6, 79, 3, 35, 1],\n",
    "            [7, 80, 4, 36, 2]]])\n",
    "\n",
    "w"
   ]
  },
  {
   "cell_type": "code",
   "execution_count": 8,
   "metadata": {},
   "outputs": [
    {
     "data": {
      "text/plain": [
       "3"
      ]
     },
     "execution_count": 8,
     "metadata": {},
     "output_type": "execute_result"
    }
   ],
   "source": [
    "w.ndim"
   ]
  },
  {
   "cell_type": "markdown",
   "metadata": {},
   "source": [
    "Entonces, para resumir, decimos que un tensor se define por tres atributos principales:\n",
    "\n",
    "- Número de ejes (rango)\n",
    "\n",
    "- Forma (*shape*): Es una tupla de enteros que describe cuántas dimensiones tiene el tensor en cada eje. Por ejemplo, la matriz del ejemplo tiene forma `(3,5)`, y el tensor de rango 3 tiene forma `(3,3,5)`. El vector tiene un solo elemento, por lo que tiene forma `(5,)`, mientras que el escalar no tiene ejes, por lo que tiene forma `()`.\n",
    "\n",
    "- Tipo de datos (llamados `dtype` en Python): Corresponde al tipo de dato contenido en el tensor. \n",
    "\n",
    "Para dejarlo más claro, volvamos a los datos del ejemplo del MNIST. Primero, cargamos el conjunto de datos del MNIST:"
   ]
  },
  {
   "cell_type": "code",
   "execution_count": 9,
   "metadata": {},
   "outputs": [],
   "source": [
    "from tensorflow.keras.datasets import mnist\n",
    "\n",
    "(train_images, train_labels), (test_images, test_labels) = mnist.load_data()"
   ]
  },
  {
   "cell_type": "markdown",
   "metadata": {},
   "source": [
    "Veamos el número de ejes del tensor `train_images`:"
   ]
  },
  {
   "cell_type": "code",
   "execution_count": 10,
   "metadata": {},
   "outputs": [
    {
     "data": {
      "text/plain": [
       "3"
      ]
     },
     "execution_count": 10,
     "metadata": {},
     "output_type": "execute_result"
    }
   ],
   "source": [
    "train_images.ndim"
   ]
  },
  {
   "cell_type": "markdown",
   "metadata": {},
   "source": [
    "Su forma es:"
   ]
  },
  {
   "cell_type": "code",
   "execution_count": 11,
   "metadata": {},
   "outputs": [
    {
     "data": {
      "text/plain": [
       "(60000, 28, 28)"
      ]
     },
     "execution_count": 11,
     "metadata": {},
     "output_type": "execute_result"
    }
   ],
   "source": [
    "train_images.shape"
   ]
  },
  {
   "cell_type": "markdown",
   "metadata": {},
   "source": [
    "Y el tipo de dato:"
   ]
  },
  {
   "cell_type": "code",
   "execution_count": 12,
   "metadata": {},
   "outputs": [
    {
     "data": {
      "text/plain": [
       "dtype('uint8')"
      ]
     },
     "execution_count": 12,
     "metadata": {},
     "output_type": "execute_result"
    }
   ],
   "source": [
    "train_images.dtype"
   ]
  },
  {
   "cell_type": "markdown",
   "metadata": {},
   "source": [
    "Entonces, tenemos un tensor de rango 3 con enteros de 8 bits. Con mayor precisión, es un array de 60,000 matrices de 28 x 28 enteros. Cada una de las matrices es una imagen en escala de grises, con coeficientes entre 0 y 255.\n",
    "\n",
    "Por mera curiosidad, veamos cómo se ve el cuarto dígito en este tensor de rango 3, usaremos la biblioteca Matplotlib."
   ]
  },
  {
   "cell_type": "code",
   "execution_count": 13,
   "metadata": {},
   "outputs": [
    {
     "data": {
      "image/png": "[encoded data removed]",
      "text/plain": [
       "<Figure size 640x480 with 1 Axes>"
      ]
     },
     "metadata": {},
     "output_type": "display_data"
    }
   ],
   "source": [
    "import matplotlib.pyplot as plt\n",
    "\n",
    "digit = train_images[4]\n",
    "\n",
    "plt.imshow(digit, cmap = plt.cm.binary)\n",
    "\n",
    "plt.show()"
   ]
  },
  {
   "cell_type": "markdown",
   "metadata": {},
   "source": [
    "Parece un 9, pero verifiquemos."
   ]
  },
  {
   "cell_type": "code",
   "execution_count": 14,
   "metadata": {},
   "outputs": [
    {
     "data": {
      "text/plain": [
       "9"
      ]
     },
     "execution_count": 14,
     "metadata": {},
     "output_type": "execute_result"
    }
   ],
   "source": [
    "train_labels[4]"
   ]
  },
  {
   "cell_type": "markdown",
   "metadata": {},
   "source": [
    "### Manipulando tensores en NumPy\n",
    "\n",
    "En el ejemplo anterior, seleccionamos un dígito en específico a lo largo del primer ejer utilizando la sintaxis `train_images[i]`. El seleccionar elementos específicos de un tensor se conoce como *slicing* (rebanar). Veamos las operaciones de slicing que podemos hacer sobre arreglos de NumPy.\n",
    "\n",
    "En el siguiente ejemplo, seleccionamos los dígitos del #10 al 100 (sin incluir al 100) y se genera un array de forma `(90, 28, 28)`:"
   ]
  },
  {
   "cell_type": "code",
   "execution_count": 15,
   "metadata": {},
   "outputs": [],
   "source": [
    "my_slice = train_images[10:100]"
   ]
  },
  {
   "cell_type": "code",
   "execution_count": 17,
   "metadata": {},
   "outputs": [
    {
     "data": {
      "text/plain": [
       "(90, 28, 28)"
      ]
     },
     "execution_count": 17,
     "metadata": {},
     "output_type": "execute_result"
    }
   ],
   "source": [
    "my_slice.shape"
   ]
  },
  {
   "cell_type": "markdown",
   "metadata": {},
   "source": [
    "De manera equivalente, utilizando una notación más detallada, donde específicamos el índice inicial y el final para la rebanada sobre cada eje del tensor, podemos escribir:"
   ]
  },
  {
   "cell_type": "markdown",
   "metadata": {},
   "source": [
    "` my_slice = train_images[10:100, : , :] ` <----- Equivalente al ejemplo anterior\n",
    "\n",
    "` my_slice = train_images[10:100, 0:28, 0:28]` <---- También equivalente al ejemplo anterior.\n",
    "\n",
    "En general, podemos seleccionar rebanadas entre dos índices cualquiera a lo largo de cada eje del tensor. Por ejemplo, para seleccionar 14 x 14 pixeles en la esquina inferior derecha de todas las imágenes podemos hacer lo siguiente:"
   ]
  },
  {
   "cell_type": "code",
   "execution_count": 18,
   "metadata": {},
   "outputs": [],
   "source": [
    "my_slice = train_images[:, 14:, 14:]"
   ]
  },
  {
   "cell_type": "markdown",
   "metadata": {},
   "source": [
    "También es posible utilizar índices negativos. Similar a los índices negativos en las listas de Python, indican una posición respecto al último elemento del eje en cuestión. Para poder recortar las imágenes a parches de 14 x 14 pixeles centradas a la mitad, escribiríamos:"
   ]
  },
  {
   "cell_type": "code",
   "execution_count": 19,
   "metadata": {},
   "outputs": [],
   "source": [
    "my_slice = train_images[:, 7:-7, 7:-7]"
   ]
  },
  {
   "cell_type": "markdown",
   "metadata": {},
   "source": [
    "Veamos cómo se ve este rebanamiento de las imágenes:"
   ]
  },
  {
   "cell_type": "code",
   "execution_count": 23,
   "metadata": {},
   "outputs": [
    {
     "data": {
      "image/png": "[encoded data removed]",
      "text/plain": [
       "<Figure size 640x480 with 1 Axes>"
      ]
     },
     "metadata": {},
     "output_type": "display_data"
    }
   ],
   "source": [
    "plt.imshow(train_images[1], cmap = plt.cm.binary)\n",
    "\n",
    "plt.show()"
   ]
  },
  {
   "cell_type": "code",
   "execution_count": 22,
   "metadata": {},
   "outputs": [
    {
     "data": {
      "image/png": "[encoded data removed]",
      "text/plain": [
       "<Figure size 640x480 with 1 Axes>"
      ]
     },
     "metadata": {},
     "output_type": "display_data"
    }
   ],
   "source": [
    "plt.imshow(my_slice[1], cmap = plt.cm.binary)\n",
    "\n",
    "plt.show()"
   ]
  },
  {
   "cell_type": "markdown",
   "metadata": {},
   "source": [
    "### Batches \n",
    "\n",
    "En general, el primer eje (eje 0) en todos los datos tensoriales que nos encontremos en deep learning serán los *ejes muestra* (*samples axis* o *samples dimension*). En el ejemplo del MNIST, las \"muestras\" son las imágenes de los dígitos.\n",
    "\n",
    "Además, los modelos de DL no suelen procesar un conjunto de datos en su totalidad una sola vez; sino que se suelen partir en pequeños lotes de datos (*batches*).  Concretamente, aquí tenemos un batch de nuestro conjunto MNIST, con tamaño (*batch size*) de 128:"
   ]
  },
  {
   "cell_type": "code",
   "execution_count": 24,
   "metadata": {},
   "outputs": [],
   "source": [
    "batch = train_images[:128]"
   ]
  },
  {
   "cell_type": "markdown",
   "metadata": {},
   "source": [
    "El siguiente batch:"
   ]
  },
  {
   "cell_type": "code",
   "execution_count": 25,
   "metadata": {},
   "outputs": [],
   "source": [
    "batch = train_images[128:256]"
   ]
  },
  {
   "cell_type": "markdown",
   "metadata": {},
   "source": [
    "Y el $n$-ésimo batch:"
   ]
  },
  {
   "cell_type": "code",
   "execution_count": 26,
   "metadata": {},
   "outputs": [],
   "source": [
    "n = 5\n",
    "\n",
    "batch = train_images[128 * n:128 * (n + 1)]"
   ]
  },
  {
   "cell_type": "markdown",
   "metadata": {},
   "source": [
    "### Ejemplos de datos tensoriales\n",
    "\n",
    "Para encontrarle un poco más de sentido a los datos tensoriales, consideremos algunos ejemplos similares a los que podríamos encontrarnos al momento de realizar un proyecto de deep learning.\n",
    "\n",
    " - *Datos vectoriales* Suelen ser tensores de rango 2 de forma `(samples, features)`, donde cada muestra es un vector de atributos numéricos, o características.\n",
    "\n",
    " - *Series de tiempo* o *datos secuenciales* Son tensores de rango 3 de forma `(samples, timesteps, features)`, donde cada muestra es una secuencia, de longitud `timesteps` de vectores de atributos.\n",
    "\n",
    " - *Imágenes* Son tensores de rango 4 con forma `(samples, height, width, channels)`, donde cada muestra es una malla de pixeles en 2D, donde cada pixel es representado por un vector de valores (`channels`).\n",
    "\n",
    " - *Video* Son tensores de rango 5 de forma `(samples, frames, height, width, channels)`, donde cada muestra es una secuencia (de longitud `frames`) de imágenes.\n",
    "\n",
    " Ya que nuestro interés se centrará en datos tensoriales en forma de imágenes haremos un poco más de énfasis en este tipo de datos.\n",
    "\n",
    " #### Datos de imágenes\n",
    "\n",
    " Las imágenes típicamente tienen tres dimensiones: altura, ancho y profundidad de color. A pesar de que las imágenes en escala de gris (como los dígitos del MNIST) tienen sólo un canal de color y podrían entonces ser almacenadas en tensores de rango 2, por convención los tensores imagen siempre son de rango 3, con un canal de color unidimensional para las imágenes en escala de gris. Un batch de 128 imágenes en escala de gris de tamaño `256 x 256` puede entonces almacenarse en un tensor de forma  `(128, 256, 256, 1)` y un batch de 128 imágenes a color se puede almacenar en un tensor de forma  `(128, 256, 256, 3)`\n",
    "\n",
    "<div style=\"text-align: center\">\n",
    "    <figure>\n",
    "        <img src='https://i.postimg.cc/MH3gmdbg/image-data-tensor.png' width='500' height='400' /> <br>\n",
    "        <figcaption> Representación de un tensor de datos de imagen de rango 4.</figcaption>\n",
    "    </figure>\n",
    "</div>\n",
    "\n",
    "\n",
    "Existen dos convenciones para las formas de los tensores de imagen: la convención *channels-last* (que es la estándar en TensorFlow) y la convención *channels-first*. La primera convención coloca al eje del color al último: `(samples, height, width, color_depth)`. Mientras que la segunda coloca al eje de color después del eje del batch `(samples, color_depth, height, width)`.\n",
    "Con la convención *channels-first*, los ejemplos anteriores pasarían a ser: `(128, 1, 256, 256)` y `(128, 3, 256, 256)`. La API de Keras soporta ambos formatos.\n",
    "\n",
    "## Operaciones tensoriales\n",
    "\n",
    "Básicamente cualquier programa de computadora puede ser reducido a un conjunto pequeño de operaciones binarias sobre entradas binarias (`AND`, `OR`, `NOR`, etc.), todas las transformaciones aprendidas por las redes neuronales pueden ser reducidas a un conjunto de *operaciones tensoriales* aplicadas a tensores de datos numéricos. Por ejemplo, es posible sumar tensores, multiplicar tensores, y así sucesivamente.\n",
    "\n",
    "En nuestro ejemplo inicial, construimos nuestro modelo al apilar capas `Dense`una sobre otra. Una instancia de capa en Keras se ve así:\n",
    "\n",
    "    keras.layers.Dense(512, activation = \"relu\")\n",
    "\n",
    "Esta capa se puede interpretar como una función, la cual toma como entrada a una matriz y devuelve otra matriz, que en este contexto es una nueva representación para el tensor de entrada. Específicamente, la función se define como sigue:\n",
    "\n",
    "$$ \\text{output} = \\text{relu}(\\text{dot}(\\text{input}, W) + b) $$\n",
    "\n",
    "donde $W$ es una matriz y $b$ es un vector, y ambos son atributos de la capa. Veamos a detalle la definición anterior, tenemos tres operaciones tensoriales aquí:\n",
    "\n",
    " - Un producto punto (`dot`) entre el tensor de entrada y un tensor $W$.\n",
    "\n",
    " - Una suma (+) entre la matriz resultante y un vector $b$.\n",
    "\n",
    " - Una operación `relu`: $ \\text{ReLU}(x) = \\max{x,0}$\n",
    "\n",
    "\n",
    "### Operaciones por elementos\n",
    "\n",
    "La operación `relu` y la suma son elementos por elementos: operaciones que son aplicadas independientemente a cada entrada en los tensores considerados. Esto significa que estas operaciones se prestan a implementaciones masivas en paralelo. Si quisieramos implementar una operación elemento a elemento en Python, podemos utilizar un ciclo `for`, por ejemplo en esta implementación de la operación `relu`:"
   ]
  },
  {
   "cell_type": "code",
   "execution_count": 30,
   "metadata": {},
   "outputs": [],
   "source": [
    "def relu(x):\n",
    "\n",
    "    assert len(x.shape) == 2 # Verificamos que x sea un tensor de NumPy de rango 2\n",
    "\n",
    "    x = x.copy() # Evitamos volver a escribir el tensor de entrada\n",
    "\n",
    "    for i in range(x.shape[0]):\n",
    "\n",
    "        for j in range(x.shape[1]):\n",
    "\n",
    "            x[i,j] = max(0, x[i,j])\n",
    "\n",
    "    return x"
   ]
  },
  {
   "cell_type": "markdown",
   "metadata": {},
   "source": [
    "Lo mismo podemos hacer para la suma:"
   ]
  },
  {
   "cell_type": "code",
   "execution_count": 33,
   "metadata": {},
   "outputs": [],
   "source": [
    "def suma(x, y):\n",
    "\n",
    "    assert len(x.shape) == 2 \n",
    "    assert x.shape == y.shape\n",
    "\n",
    "    x = x.copy()\n",
    "\n",
    "    for i in range(x.shape[0]):\n",
    "\n",
    "        for j in range(y.shape[1]):\n",
    "\n",
    "            x[i,j] += y[i,j] # += es un operador: x += 1 equivale a x = x + 1\n",
    "\n",
    "    return x\n"
   ]
  },
  {
   "cell_type": "markdown",
   "metadata": {},
   "source": [
    "Y siguiendo esta misma idea, podemos hacer las operaciones de multiplicación, substracción, etc. En la práctica, cuando tratammos con arrays de NumPy, estas operaciones están disponibles como funciones nativas bien optimizadas. En NumPy, podemos hacer las siguientes operaciones y son increíblemente rápidas:"
   ]
  },
  {
   "cell_type": "code",
   "execution_count": 35,
   "metadata": {},
   "outputs": [
    {
     "name": "stdout",
     "output_type": "stream",
     "text": [
      "[84 57 48 56 49]\n"
     ]
    }
   ],
   "source": [
    " import numpy as np\n",
    "\n",
    " z = x + y\n",
    "\n",
    " print(z)"
   ]
  },
  {
   "cell_type": "code",
   "execution_count": 38,
   "metadata": {},
   "outputs": [
    {
     "name": "stdout",
     "output_type": "stream",
     "text": [
      "[84. 57. 48. 56. 49.]\n"
     ]
    }
   ],
   "source": [
    "z = np.maximum(0, z)\n",
    "\n",
    "print(z)"
   ]
  },
  {
   "cell_type": "markdown",
   "metadata": {},
   "source": [
    "Veamos la diferencia que existe entre implementar las funciones que definimos y las de NumPy."
   ]
  },
  {
   "cell_type": "code",
   "execution_count": 39,
   "metadata": {},
   "outputs": [],
   "source": [
    "import time\n",
    "\n",
    "x = np.random.random((20, 1000))\n",
    "\n",
    "y = np.random.random((20, 1000))"
   ]
  },
  {
   "cell_type": "code",
   "execution_count": 41,
   "metadata": {},
   "outputs": [
    {
     "name": "stdout",
     "output_type": "stream",
     "text": [
      "Tardó: 0.03 s\n"
     ]
    }
   ],
   "source": [
    "t_0 = time.time()\n",
    "\n",
    "for _ in range(1000):\n",
    "\n",
    "    z = x + y\n",
    "    z = np.maximum(0., z)\n",
    "\n",
    "print(\"Tardó: {0:.2f} s\".format(time.time() - t_0))"
   ]
  },
  {
   "cell_type": "code",
   "execution_count": 43,
   "metadata": {},
   "outputs": [
    {
     "name": "stdout",
     "output_type": "stream",
     "text": [
      "Tardó: 13.47 s\n"
     ]
    }
   ],
   "source": [
    "t0 = time.time()\n",
    "\n",
    "for _ in range(1000):\n",
    "\n",
    "    z = suma(x, y)\n",
    "    z = relu(z)\n",
    "\n",
    "print(\"Tardó: {0:.2f} s\".format(time.time() - t0))"
   ]
  },
  {
   "cell_type": "markdown",
   "metadata": {},
   "source": [
    "### Broadcasting"
   ]
  },
  {
   "cell_type": "code",
   "execution_count": null,
   "metadata": {},
   "outputs": [],
   "source": []
  }
 ],
 "metadata": {
  "kernelspec": {
   "display_name": "Python 3.10.8 64-bit (microsoft store)",
   "language": "python",
   "name": "python3"
  },
  "language_info": {
   "codemirror_mode": {
    "name": "ipython",
    "version": 3
   },
   "file_extension": ".py",
   "mimetype": "text/x-python",
   "name": "python",
   "nbconvert_exporter": "python",
   "pygments_lexer": "ipython3",
   "version": "3.10.11"
  },
  "orig_nbformat": 4,
  "vscode": {
   "interpreter": {
    "hash": "015228567aad51ec78ea438af017505189109c183cee0d015d00b888b8f36de5"
   }
  }
 },
 "nbformat": 4,
 "nbformat_minor": 2
}
